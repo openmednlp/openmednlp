{
 "cells": [
  {
   "cell_type": "markdown",
   "metadata": {
    "collapsed": true
   },
   "source": [
    "# NLP on RIS report Demo"
   ]
  },
  {
   "cell_type": "markdown",
   "metadata": {},
   "source": [
    "# Extracting Impressions from Reports\n",
    "\n",
    "We assume all the files in a filder are text files, and hopefully all of themare report files. The function should iterate through all of the files and extract text that is recognized as *Beurteilung*. \n",
    "\n",
    "Unfortenatelly this is not always so straightforward. Some of the possible scenarios:\n",
    "- Everything is as expected - impression is found between *Beurteilung* and a next header.\n",
    "- There is *Beurteilung* header, but it never closes.\n",
    "- *Beurteilung* is misspelled.\n",
    "- *Beurteilung* is just a subsection but not clearly separated\n",
    "- There is no *Beurteilung*\n",
    "\n",
    "The list is of course not exhaustive.\n",
    "\n",
    "To set the reports location, use the config.ini:\n",
    "\n",
    "```ini\n",
    "[INPUT]\n",
    "REPORTS: /home/giga/Dropbox/USB/datasets/risnlp/inputs/reports_2\n",
    "```\n",
    "\n",
    "Now just run the following code, and reports will be returned as a dataframe. We will not persist the output."
   ]
  },
  {
   "cell_type": "code",
   "execution_count": null,
   "metadata": {
    "collapsed": false
   },
   "outputs": [
    {
     "data": {
      "text/html": [
       "<div>\n",
       "<style scoped>\n",
       "    .dataframe tbody tr th:only-of-type {\n",
       "        vertical-align: middle;\n",
       "    }\n",
       "\n",
       "    .dataframe tbody tr th {\n",
       "        vertical-align: top;\n",
       "    }\n",
       "\n",
       "    .dataframe thead th {\n",
       "        text-align: right;\n",
       "    }\n",
       "</style>\n",
       "<table border=\"1\" class=\"dataframe\">\n",
       "  <thead>\n",
       "    <tr style=\"text-align: right;\">\n",
       "      <th></th>\n",
       "      <th>impression</th>\n",
       "      <th>impression_id</th>\n",
       "    </tr>\n",
       "  </thead>\n",
       "  <tbody>\n",
       "    <tr>\n",
       "      <th>87</th>\n",
       "      <td>Nach Chemotherapie zeigt sich ein persistieren...</td>\n",
       "      <td>25426457</td>\n",
       "    </tr>\n",
       "    <tr>\n",
       "      <th>106</th>\n",
       "      <td>Infiltrative, hypermetabole Veränderungen der ...</td>\n",
       "      <td>23980599</td>\n",
       "    </tr>\n",
       "    <tr>\n",
       "      <th>120</th>\n",
       "      <td>Verglichen mit der Voruntersuchung von Ende Ok...</td>\n",
       "      <td>24685787</td>\n",
       "    </tr>\n",
       "    <tr>\n",
       "      <th>6</th>\n",
       "      <td>Intensiv hypermetabole Raumforderung des Ösoph...</td>\n",
       "      <td>24278554</td>\n",
       "    </tr>\n",
       "    <tr>\n",
       "      <th>121</th>\n",
       "      <td>Tendenziell progrediente lympho-nodale Tumor-M...</td>\n",
       "      <td>24258743</td>\n",
       "    </tr>\n",
       "    <tr>\n",
       "      <th>14</th>\n",
       "      <td>Sprengung des Arcus anterior atlantis (Serie 8...</td>\n",
       "      <td>24157622</td>\n",
       "    </tr>\n",
       "    <tr>\n",
       "      <th>60</th>\n",
       "      <td>Intensiver, malignomtypischer Hypermetabolismu...</td>\n",
       "      <td>24066634</td>\n",
       "    </tr>\n",
       "    <tr>\n",
       "      <th>24</th>\n",
       "      <td>Nachweis von vitalem Tumorgewebe im Bereich de...</td>\n",
       "      <td>24242801</td>\n",
       "    </tr>\n",
       "    <tr>\n",
       "      <th>41</th>\n",
       "      <td>Ausgeprägte postoperative Veränderungen des Co...</td>\n",
       "      <td>24294066</td>\n",
       "    </tr>\n",
       "    <tr>\n",
       "      <th>132</th>\n",
       "      <td>Mindestens 4 hypermetabole Foci in der Leber i...</td>\n",
       "      <td>24238632</td>\n",
       "    </tr>\n",
       "  </tbody>\n",
       "</table>\n",
       "</div>"
      ],
      "text/plain": [
       "<div>\n",
       "<style scoped>\n",
       "    .dataframe tbody tr th:only-of-type {\n",
       "        vertical-align: middle;\n",
       "    }\n",
       "\n",
       "    .dataframe tbody tr th {\n",
       "        vertical-align: top;\n",
       "    }\n",
       "\n",
       "    .dataframe thead th {\n",
       "        text-align: right;\n",
       "    }\n",
       "</style>\n",
       "<table border=\"1\" class=\"dataframe\">\n",
       "  <thead>\n",
       "    <tr style=\"text-align: right;\">\n",
       "      <th></th>\n",
       "      <th>impression</th>\n",
       "      <th>impression_id</th>\n",
       "    </tr>\n",
       "  </thead>\n",
       "  <tbody>\n",
       "    <tr>\n",
       "      <th>87</th>\n",
       "      <td>Nach Chemotherapie zeigt sich ein persistieren...</td>\n",
       "      <td>25426457</td>\n",
       "    </tr>\n",
       "    <tr>\n",
       "      <th>106</th>\n",
       "      <td>Infiltrative, hypermetabole Veränderungen der ...</td>\n",
       "      <td>23980599</td>\n",
       "    </tr>\n",
       "    <tr>\n",
       "      <th>120</th>\n",
       "      <td>Verglichen mit der Voruntersuchung von Ende Ok...</td>\n",
       "      <td>24685787</td>\n",
       "    </tr>\n",
       "    <tr>\n",
       "      <th>6</th>\n",
       "      <td>Intensiv hypermetabole Raumforderung des Ösoph...</td>\n",
       "      <td>24278554</td>\n",
       "    </tr>\n",
       "    <tr>\n",
       "      <th>121</th>\n",
       "      <td>Tendenziell progrediente lympho-nodale Tumor-M...</td>\n",
       "      <td>24258743</td>\n",
       "    </tr>\n",
       "    <tr>\n",
       "      <th>14</th>\n",
       "      <td>Sprengung des Arcus anterior atlantis (Serie 8...</td>\n",
       "      <td>24157622</td>\n",
       "    </tr>\n",
       "    <tr>\n",
       "      <th>60</th>\n",
       "      <td>Intensiver, malignomtypischer Hypermetabolismu...</td>\n",
       "      <td>24066634</td>\n",
       "    </tr>\n",
       "    <tr>\n",
       "      <th>24</th>\n",
       "      <td>Nachweis von vitalem Tumorgewebe im Bereich de...</td>\n",
       "      <td>24242801</td>\n",
       "    </tr>\n",
       "    <tr>\n",
       "      <th>41</th>\n",
       "      <td>Ausgeprägte postoperative Veränderungen des Co...</td>\n",
       "      <td>24294066</td>\n",
       "    </tr>\n",
       "    <tr>\n",
       "      <th>132</th>\n",
       "      <td>Mindestens 4 hypermetabole Foci in der Leber i...</td>\n",
       "      <td>24238632</td>\n",
       "    </tr>\n",
       "  </tbody>\n",
       "</table>\n",
       "</div>"
      ]
     },
     "execution_count": 0,
     "metadata": {},
     "output_type": "execute_result"
    }
   ],
   "source": [
    "import text as dataset\n",
    "config = dataset.config_to_namedtuple()\n",
    "reports_dir = config.INPUT.reports\n",
    "df_impressions = dataset.extract_impressions_from_files(\n",
    "    reports_dir\n",
    ")\n",
    "display(df_impressions.sample(10))"
   ]
  },
  {
   "cell_type": "markdown",
   "metadata": {},
   "source": [
    "# Converting Impressins to Sentences\n",
    "\n",
    "Keep in mind that all fieldnames are defined in the config file (*config.ini*):\n",
    "```ini\n",
    "[FIELD_NAME]\n",
    "ACCESSION_ID: accession_id\n",
    "IMPRESSION_ID: impression_id\n",
    "IMPRESSION: impression\n",
    "SENTENCE_ID: sentence_id\n",
    "SENTENCE: sentence\n",
    "GROUND_TRUTH: ground_truth\n",
    "PROCESSED: processed\n",
    "```\n",
    "\n",
    "These column names are used in the processing pipline, if you wish to use existing *csv* files, make sure you use these names or improve the existing code.\n",
    "\n",
    "Now we can convert impressions to sentences. Since we don't have any ground truth defined, we will live this empty. Inputs ar of type iterable."
   ]
  },
  {
   "cell_type": "code",
   "execution_count": 6,
   "metadata": {},
   "outputs": [
    {
     "data": {
      "text/html": [
       "<div>\n",
       "<style scoped>\n",
       "    .dataframe tbody tr th:only-of-type {\n",
       "        vertical-align: middle;\n",
       "    }\n",
       "\n",
       "    .dataframe tbody tr th {\n",
       "        vertical-align: top;\n",
       "    }\n",
       "\n",
       "    .dataframe thead th {\n",
       "        text-align: right;\n",
       "    }\n",
       "</style>\n",
       "<table border=\"1\" class=\"dataframe\">\n",
       "  <thead>\n",
       "    <tr style=\"text-align: right;\">\n",
       "      <th></th>\n",
       "      <th>impression_id</th>\n",
       "      <th>sentence_id</th>\n",
       "      <th>sentence</th>\n",
       "      <th>ground_truth</th>\n",
       "    </tr>\n",
       "  </thead>\n",
       "  <tbody>\n",
       "    <tr>\n",
       "      <th>654</th>\n",
       "      <td>25337647</td>\n",
       "      <td>2</td>\n",
       "      <td>Ein nicht vergrösserter Lymphknoten mesenteria...</td>\n",
       "      <td></td>\n",
       "    </tr>\n",
       "    <tr>\n",
       "      <th>198</th>\n",
       "      <td>25346422</td>\n",
       "      <td>3</td>\n",
       "      <td>Neu hypermetaboler vergrösserter Lymphknoten r...</td>\n",
       "      <td></td>\n",
       "    </tr>\n",
       "    <tr>\n",
       "      <th>411</th>\n",
       "      <td>24617153</td>\n",
       "      <td>1</td>\n",
       "      <td>Im Verlauf größenprogredienter Pleuraerguss li...</td>\n",
       "      <td></td>\n",
       "    </tr>\n",
       "    <tr>\n",
       "      <th>373</th>\n",
       "      <td>24564479</td>\n",
       "      <td>1</td>\n",
       "      <td>Kein Hinweis auf weitere Tumormanifestationen.</td>\n",
       "      <td></td>\n",
       "    </tr>\n",
       "    <tr>\n",
       "      <th>319</th>\n",
       "      <td>24712375</td>\n",
       "      <td>4</td>\n",
       "      <td>Eine Metastase erscheint hier unwahrscheinlich.</td>\n",
       "      <td></td>\n",
       "    </tr>\n",
       "    <tr>\n",
       "      <th>560</th>\n",
       "      <td>25267684</td>\n",
       "      <td>2</td>\n",
       "      <td>Bei nur geringem Hypermetabolismus der Magenlä...</td>\n",
       "      <td></td>\n",
       "    </tr>\n",
       "    <tr>\n",
       "      <th>158</th>\n",
       "      <td>24088783</td>\n",
       "      <td>1</td>\n",
       "      <td>Als postoperativ bzw. postentzündlich zu werte...</td>\n",
       "      <td></td>\n",
       "    </tr>\n",
       "    <tr>\n",
       "      <th>297</th>\n",
       "      <td>24291622</td>\n",
       "      <td>9</td>\n",
       "      <td>MRI Schädel zu weiteren Abklärung empfohlen.</td>\n",
       "      <td></td>\n",
       "    </tr>\n",
       "    <tr>\n",
       "      <th>575</th>\n",
       "      <td>24518412</td>\n",
       "      <td>1</td>\n",
       "      <td>40x26 mm messende Raumforderung im distalen Oe...</td>\n",
       "      <td></td>\n",
       "    </tr>\n",
       "    <tr>\n",
       "      <th>680</th>\n",
       "      <td>24565635</td>\n",
       "      <td>0</td>\n",
       "      <td>Ca.</td>\n",
       "      <td></td>\n",
       "    </tr>\n",
       "  </tbody>\n",
       "</table>\n",
       "</div>"
      ],
      "text/plain": [
       "<div>\n",
       "<style scoped>\n",
       "    .dataframe tbody tr th:only-of-type {\n",
       "        vertical-align: middle;\n",
       "    }\n",
       "\n",
       "    .dataframe tbody tr th {\n",
       "        vertical-align: top;\n",
       "    }\n",
       "\n",
       "    .dataframe thead th {\n",
       "        text-align: right;\n",
       "    }\n",
       "</style>\n",
       "<table border=\"1\" class=\"dataframe\">\n",
       "  <thead>\n",
       "    <tr style=\"text-align: right;\">\n",
       "      <th></th>\n",
       "      <th>impression_id</th>\n",
       "      <th>sentence_id</th>\n",
       "      <th>sentence</th>\n",
       "      <th>ground_truth</th>\n",
       "    </tr>\n",
       "  </thead>\n",
       "  <tbody>\n",
       "    <tr>\n",
       "      <th>654</th>\n",
       "      <td>25337647</td>\n",
       "      <td>2</td>\n",
       "      <td>Ein nicht vergrösserter Lymphknoten mesenteria...</td>\n",
       "      <td></td>\n",
       "    </tr>\n",
       "    <tr>\n",
       "      <th>198</th>\n",
       "      <td>25346422</td>\n",
       "      <td>3</td>\n",
       "      <td>Neu hypermetaboler vergrösserter Lymphknoten r...</td>\n",
       "      <td></td>\n",
       "    </tr>\n",
       "    <tr>\n",
       "      <th>411</th>\n",
       "      <td>24617153</td>\n",
       "      <td>1</td>\n",
       "      <td>Im Verlauf größenprogredienter Pleuraerguss li...</td>\n",
       "      <td></td>\n",
       "    </tr>\n",
       "    <tr>\n",
       "      <th>373</th>\n",
       "      <td>24564479</td>\n",
       "      <td>1</td>\n",
       "      <td>Kein Hinweis auf weitere Tumormanifestationen.</td>\n",
       "      <td></td>\n",
       "    </tr>\n",
       "    <tr>\n",
       "      <th>319</th>\n",
       "      <td>24712375</td>\n",
       "      <td>4</td>\n",
       "      <td>Eine Metastase erscheint hier unwahrscheinlich.</td>\n",
       "      <td></td>\n",
       "    </tr>\n",
       "    <tr>\n",
       "      <th>560</th>\n",
       "      <td>25267684</td>\n",
       "      <td>2</td>\n",
       "      <td>Bei nur geringem Hypermetabolismus der Magenlä...</td>\n",
       "      <td></td>\n",
       "    </tr>\n",
       "    <tr>\n",
       "      <th>158</th>\n",
       "      <td>24088783</td>\n",
       "      <td>1</td>\n",
       "      <td>Als postoperativ bzw. postentzündlich zu werte...</td>\n",
       "      <td></td>\n",
       "    </tr>\n",
       "    <tr>\n",
       "      <th>297</th>\n",
       "      <td>24291622</td>\n",
       "      <td>9</td>\n",
       "      <td>MRI Schädel zu weiteren Abklärung empfohlen.</td>\n",
       "      <td></td>\n",
       "    </tr>\n",
       "    <tr>\n",
       "      <th>575</th>\n",
       "      <td>24518412</td>\n",
       "      <td>1</td>\n",
       "      <td>40x26 mm messende Raumforderung im distalen Oe...</td>\n",
       "      <td></td>\n",
       "    </tr>\n",
       "    <tr>\n",
       "      <th>680</th>\n",
       "      <td>24565635</td>\n",
       "      <td>0</td>\n",
       "      <td>Ca.</td>\n",
       "      <td></td>\n",
       "    </tr>\n",
       "  </tbody>\n",
       "</table>\n",
       "</div>"
      ]
     },
     "execution_count": 0,
     "metadata": {},
     "output_type": "execute_result"
    }
   ],
   "source": [
    "from risnlp.dataset import impressions_to_sentences\n",
    "\n",
    "impressions_field_name = config.FIELD_NAME.impression\n",
    "impressions = df_impressions[impressions_field_name]\n",
    "\n",
    "impressions_id_field_name = config.FIELD_NAME.impression_id\n",
    "impression_ids = df_impressions[impressions_id_field_name]\n",
    "\n",
    "df_sentences = impressions_to_sentences(impressions, impression_ids)\n",
    "display(df_sentences.sample(10))"
   ]
  },
  {
   "cell_type": "markdown",
   "metadata": {},
   "source": [
    "# Splitting Dataset into Train/Test Data\n",
    "\n",
    "For most algorithms we will need to split the dataset into training and test parts."
   ]
  },
  {
   "cell_type": "code",
   "execution_count": 7,
   "metadata": {
    "collapsed": true
   },
   "outputs": [
    {
     "data": {
      "text/plain": [
       "'X_train'"
      ]
     },
     "execution_count": 0,
     "metadata": {},
     "output_type": "execute_result"
    },
    {
     "data": {
      "text/plain": [
       "11                                           Seit mind.\n12    2012 bekanntes milchglasartiges und fein retik...\n13    Dabei allerdings neu aufgetretener Hypermetabo...\n14    Zusätzlich seit 10/2015 neu aufgetretenes, hyp...\n15    Somit entspricht auch die zunehmende Verdichtu...\nName: sentence, dtype: object"
      ]
     },
     "execution_count": 0,
     "metadata": {},
     "output_type": "execute_result"
    },
    {
     "data": {
      "text/plain": [
       "'y_train'"
      ]
     },
     "execution_count": 0,
     "metadata": {},
     "output_type": "execute_result"
    },
    {
     "data": {
      "text/plain": [
       "11    \n12    \n13    \n14    \n15    \nName: ground_truth, dtype: object"
      ]
     },
     "execution_count": 0,
     "metadata": {},
     "output_type": "execute_result"
    }
   ],
   "source": [
    "from risnlp.dataset import split_df\n",
    "\n",
    "input_filed_name = config.FIELD_NAME.sentence\n",
    "target_field_name = config.FIELD_NAME.ground_truth\n",
    "split_by_field = config.FIELD_NAME.impression_id\n",
    "X_train, X_test, y_train, y_test = split_df(\n",
    "    df_sentences,\n",
    "    input_filed_name, \n",
    "    target_field_name,\n",
    "    split_by_field\n",
    ")\n",
    "\n",
    "display('X_train', X_train[:5])\n",
    "display('y_train', y_train[:5])"
   ]
  },
  {
   "cell_type": "markdown",
   "metadata": {},
   "source": [
    "Obviously the y data has no values. We will load a new dataset with this field populated when it comes to the algorithm testing time."
   ]
  },
  {
   "cell_type": "markdown",
   "metadata": {},
   "source": [
    "# Word Embedding\n",
    "\n",
    "Let's first cover 2 ways we do word embedding. One is tfidf representation and the other is word2vec (will be used with conv net).\n",
    "\n",
    "## tf-idf (short refresher)\n",
    "\n",
    "It stands for term frequency-inverse document frequency.  A statistical measure of word importance. It is directly proportional to the number of occurences in a document, but is inverse proportinal to the number of occurences in the corpus.\n",
    "\n",
    "$$tf-idf(d, t) = tf(t) * idf(d, t)$$\n",
    "$$idf(d, t) = log [ \\frac{n}{df(d, t)} ]$$\n",
    "\n",
    "(In scikit the '+1' is added at the end, it is there to not completely exclude items appearing in all documents)\n",
    "\n",
    "Or informally:\n",
    "$$TF(t) = \\frac{\\text{Number of times term t appears in a document}}{\\text{Total number of terms in the document}}$$\n",
    "\n",
    "$$IDF(t) = log\\left(\\frac{\\text{Total number of documents}}{\\text{Number of documents with term t in it}}\\right)$$\n",
    "\n",
    "## Word2Vec (even shorter refresher)\n",
    "\n",
    "It constructs a vocabulary from the training text data and then learns vector representation of words. \n",
    "A simple way to investigate the learned representations is to find the closest words for a user-specified word.\n",
    "\n",
    "## Training Vectorizers\n",
    "\n",
    "Let's train the tf-idf vectorizer first. It will be trained and the train data. We will not persist the data for now."
   ]
  },
  {
   "cell_type": "code",
   "execution_count": 8,
   "metadata": {
    "collapsed": false
   },
   "outputs": [
    {
     "name": "stdout",
     "output_type": "stream",
     "text": [
      "Sample sentences\nBei zwischenzeitlichem Status nach Gastrektomie bei Magenkarzinom findet sich eine neuaufgetretenes, FDG avides Weichteilplus präaortal mit Ausbreitung entlang der Arteria hepatica propria bis in den Leberhilus, hochgradig suspekt auf ein Lokalrezidiv, DD postoperative Veränderungen weniger wahrscheinlich.\nZudem Nachweis  zwei neuaufgetretene, morphologisch unauffälliger, jedoch kräftig FDG avider Lymphknoten retroperitoneal, ebenfalls Metastasensuspekt.\nNeuaufgetretener fokaler Hypermetabolismus in der 1.\nRippe links mit korrelierender Osteolyse, sowie im BWK 11 mit hier Mehrsklerosieurng, ebenfalls suspekt.\nVorbestehende, ausgeprägten Mehrsklerosierungen des Skelettsystems weiterhin unklarer Ätiologie.\n"
     ]
    },
    {
     "data": {
      "text/plain": [
       "<5x1771 sparse matrix of type '<class 'numpy.float64'>'\n\twith 60 stored elements in Compressed Sparse Row format>"
      ]
     },
     "execution_count": 0,
     "metadata": {},
     "output_type": "execute_result"
    }
   ],
   "source": [
    "from risnlp.dataset import train_tfidf_vectorizer\n",
    "\n",
    "\n",
    "tfidf_vectorizer = train_tfidf_vectorizer(X_train)\n",
    "\n",
    "\n",
    "print('Sample sentences')\n",
    "sample_sentences = X_test[0:5]\n",
    "[print(s) for s in sample_sentences]\n",
    "\n",
    "# Test on the above sentences\n",
    "result = tfidf_vectorizer.transform(sample_sentences)\n",
    "\n",
    "display(result)\n"
   ]
  },
  {
   "cell_type": "markdown",
   "metadata": {},
   "source": [
    "Here we see there is a sparse matrix that has 5 rows and (hopefully) 1793 columns. \n",
    "Columns represent dimensions, which are acquired from the unique words found in the X_training set.\n",
    "We can also see that there are 36 words in these 5 sentences that were recognized \n",
    "(do note that there might be an overlap between the sentences)."
   ]
  },
  {
   "cell_type": "code",
   "execution_count": 9,
   "metadata": {},
   "outputs": [],
   "source": [
    "X_train_vectorized = tfidf_vectorizer.transform(X_train)\n",
    "X_test_vectorized = tfidf_vectorizer.transform(X_test)"
   ]
  },
  {
   "cell_type": "markdown",
   "metadata": {},
   "source": [
    "And now the word2vec model, which we will also train on the train data."
   ]
  },
  {
   "cell_type": "code",
   "execution_count": 10,
   "metadata": {},
   "outputs": [
    {
     "name": "stdout",
     "output_type": "stream",
     "text": [
      "Learned vocab len:  73\n"
     ]
    }
   ],
   "source": [
    "from risnlp.dataset import train_word2vec_vectorizer\n",
    "w2v_vectorizer = train_word2vec_vectorizer(X_train)"
   ]
  },
  {
   "cell_type": "markdown",
   "metadata": {},
   "source": [
    "More about w2v once we come to the convNN model."
   ]
  },
  {
   "cell_type": "markdown",
   "metadata": {},
   "source": [
    "# Models"
   ]
  },
  {
   "cell_type": "markdown",
   "metadata": {},
   "source": [
    "## Training a model\n",
    "\n",
    "Now we can think about training the classification model.\n",
    "\n",
    "But first, we've finally hit the wall with our data extraction pipeline. We need the target data for training, which cannot be extracted from the training data. \n",
    "\n",
    "So we will load the new dataset that has manually supplied targets.\n",
    "It is just like the file we exported and then manually classified by an expert.\n",
    "\n",
    "We will load a dataset on the sentence level of granularity, which is provided in the *config.ini*.\n",
    "\n",
    "```ini\n",
    "[INPUT]\n",
    "SENTENCES: /home/giga/dev/python/risnlp/inputs/sentence_dataset.csv\n",
    "```\n",
    "\n",
    "And don't forget, you can perform various operations on the text prior to this (stemming, lematization, tokenization, short word removal etc.). The tf-idf vectorizer expects list of sentences as input, so make sure the tokenization is turned of in the *config.ini*.\n",
    "\n",
    "```ini\n",
    "[TEXT_OPERATIONS]\n",
    "WORD_TOKENIZE: False\n",
    "```"
   ]
  },
  {
   "cell_type": "code",
   "execution_count": 27,
   "metadata": {},
   "outputs": [],
   "source": [
    "from case_runner import load_default_train_test\n",
    "sentences_granularity = config.GRANULARITY.sentences\n",
    "X_train, X_test, y_train, y_test = load_default_train_test(\n",
    "    sentences_granularity,\n",
    "    split_by_field\n",
    ")"
   ]
  },
  {
   "cell_type": "markdown",
   "metadata": {},
   "source": [
    "We need to create a vectorizer as well (tf-idf vectorizer)."
   ]
  },
  {
   "cell_type": "code",
   "execution_count": 28,
   "metadata": {},
   "outputs": [],
   "source": [
    "tfidf_vectorizer = train_tfidf_vectorizer(X_train)\n"
   ]
  },
  {
   "cell_type": "code",
   "execution_count": 29,
   "metadata": {},
   "outputs": [],
   "source": [
    "X_train_vectorized = tfidf_vectorizer.transform(X_train)\n",
    "X_test_vectorized = tfidf_vectorizer.transform(X_test)"
   ]
  },
  {
   "cell_type": "markdown",
   "metadata": {},
   "source": [
    "Now we can train the model. Let's stert with the SVC model, that does dimensionality reduction beforehand."
   ]
  },
  {
   "cell_type": "code",
   "execution_count": 30,
   "metadata": {},
   "outputs": [
    {
     "name": "stdout",
     "output_type": "stream",
     "text": [
      "Feature Selection SVC Model\n"
     ]
    }
   ],
   "source": [
    "from risnlp.models import standard\n",
    "model = standard.fs_svc(X_train_vectorized, y_train)"
   ]
  },
  {
   "cell_type": "markdown",
   "metadata": {},
   "source": [
    "Are you down for some viz? We will use test data as validate data."
   ]
  },
  {
   "cell_type": "code",
   "execution_count": 31,
   "metadata": {},
   "outputs": [
    {
     "name": "stdout",
     "output_type": "stream",
     "text": [
      "                      0       1       2       3       4       5\n-----------------------------------\n     precission  |  00.46   00.59   00.67   00.31   00.48   00.42 \n         recall  |  00.82   00.50   00.24   00.19   00.69   00.26 \n             f1  |  00.59   00.54   00.35   00.24   00.56   00.32 \n          count  |  28.00   20.00   17.00   21.00   16.00   19.00 \nDone\n"
     ]
    }
   ],
   "source": [
    "%matplotlib inline\n",
    "from risnlp import viz\n",
    "y_hat = model.predict(X_test_vectorized)\n",
    "viz.show_stats(y_test, y_hat)\n"
   ]
  },
  {
   "cell_type": "markdown",
   "metadata": {},
   "source": [
    "How about some confusion matrices?"
   ]
  },
  {
   "cell_type": "code",
   "execution_count": 32,
   "metadata": {
    "collapsed": true
   },
   "outputs": [
    {
     "name": "stdout",
     "output_type": "stream",
     "text": [
      "Confusion matrix, without normalization\n[[23  1  1  0  2  1]\n [ 4 10  1  4  1  0]\n [ 3  1  4  4  3  2]\n [10  2  0  4  4  1]\n [ 2  0  0  0 11  3]\n [ 8  3  0  1  2  5]]\nNormalized confusion matrix\n[[0.82 0.04 0.04 0.   0.07 0.04]\n [0.2  0.5  0.05 0.2  0.05 0.  ]\n [0.18 0.06 0.24 0.24 0.18 0.12]\n [0.48 0.1  0.   0.19 0.19 0.05]\n [0.12 0.   0.   0.   0.69 0.19]\n [0.42 0.16 0.   0.05 0.11 0.26]]\n"
     ]
    },
    {
     "data": {
      "image/png": "[encoded data removed]",
      "text/plain": [
       "<matplotlib.figure.Figure at 0x7f55236db898>"
      ]
     },
     "metadata": {},
     "output_type": "display_data"
    },
    {
     "data": {
      "image/png": "[encoded data removed]",
      "text/plain": [
       "<matplotlib.figure.Figure at 0x7f5523558198>"
      ]
     },
     "metadata": {},
     "output_type": "display_data"
    }
   ],
   "source": [
    "viz.plot_confusion_reports(y_test, y_hat)"
   ]
  },
  {
   "cell_type": "markdown",
   "metadata": {},
   "source": [
    "## Dataset split on sentences\n",
    "Let's try the same if just split sentences to train and no mather where they come from."
   ]
  },
  {
   "cell_type": "code",
   "execution_count": 18,
   "metadata": {
    "collapsed": true
   },
   "outputs": [],
   "source": [
    ""
   ]
  },
  {
   "cell_type": "code",
   "execution_count": 18,
   "metadata": {},
   "outputs": [],
   "source": []
  },
  {
   "cell_type": "code",
   "execution_count": 18,
   "metadata": {},
   "outputs": [],
   "source": []
  },
  {
   "cell_type": "code",
   "execution_count": null,
   "metadata": {},
   "outputs": [],
   "source": []
  }
 ],
 "metadata": {
  "kernelspec": {
   "display_name": "Python 2",
   "language": "python",
   "name": "python2"
  },
  "language_info": {
   "codemirror_mode": {
    "name": "ipython",
    "version": 2
   },
   "file_extension": ".py",
   "mimetype": "text/x-python",
   "name": "python",
   "nbconvert_exporter": "python",
   "pygments_lexer": "ipython2",
   "version": "2.7.6"
  }
 },
 "nbformat": 4,
 "nbformat_minor": 0
}
